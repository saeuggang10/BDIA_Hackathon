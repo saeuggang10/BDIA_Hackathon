{
 "cells": [
  {
   "cell_type": "code",
   "execution_count": 1,
   "id": "0c022022",
   "metadata": {},
   "outputs": [
    {
     "data": {
      "text/plain": [
       "['C:/edu_busan_202305/14_해커톤\\\\model1_E10.pickle',\n",
       " 'C:/edu_busan_202305/14_해커톤\\\\model2_I10.pickle',\n",
       " 'C:/edu_busan_202305/14_해커톤\\\\model3_J00.pickle',\n",
       " 'C:/edu_busan_202305/14_해커톤\\\\model4_J20.pickle',\n",
       " 'C:/edu_busan_202305/14_해커톤\\\\model5_M50.pickle',\n",
       " 'C:/edu_busan_202305/14_해커톤\\\\model_scaler.pickle']"
      ]
     },
     "execution_count": 1,
     "metadata": {},
     "output_type": "execute_result"
    }
   ],
   "source": [
    "import glob\n",
    "import pickle\n",
    "files = glob.glob('C:/edu_busan_202305/14_해커톤/*.pickle')\n",
    "files"
   ]
  },
  {
   "cell_type": "code",
   "execution_count": 2,
   "id": "72a41d2c",
   "metadata": {},
   "outputs": [],
   "source": [
    "i = 1\n",
    "for file in files:\n",
    "    with open(file,'rb') as f:\n",
    "        globals()['model{}'.format(i)] = pickle.load(f)\n",
    "    i += 1\n",
    "    \n",
    "with open('model_scaler.pickle', 'rb') as f: \n",
    "    scaler = pickle.load(f)"
   ]
  },
  {
   "cell_type": "code",
   "execution_count": 3,
   "id": "88084c67",
   "metadata": {},
   "outputs": [],
   "source": [
    "import pandas as pd"
   ]
  },
  {
   "cell_type": "code",
   "execution_count": 6,
   "id": "de89be33",
   "metadata": {},
   "outputs": [
    {
     "data": {
      "text/html": [
       "<div>\n",
       "<style scoped>\n",
       "    .dataframe tbody tr th:only-of-type {\n",
       "        vertical-align: middle;\n",
       "    }\n",
       "\n",
       "    .dataframe tbody tr th {\n",
       "        vertical-align: top;\n",
       "    }\n",
       "\n",
       "    .dataframe thead th {\n",
       "        text-align: right;\n",
       "    }\n",
       "</style>\n",
       "<table border=\"1\" class=\"dataframe\">\n",
       "  <thead>\n",
       "    <tr style=\"text-align: right;\">\n",
       "      <th></th>\n",
       "      <th>시도코드</th>\n",
       "      <th>성별코드</th>\n",
       "      <th>ast_alt2</th>\n",
       "    </tr>\n",
       "  </thead>\n",
       "  <tbody>\n",
       "    <tr>\n",
       "      <th>0</th>\n",
       "      <td>42</td>\n",
       "      <td>1</td>\n",
       "      <td>4</td>\n",
       "    </tr>\n",
       "  </tbody>\n",
       "</table>\n",
       "</div>"
      ],
      "text/plain": [
       "   시도코드  성별코드 ast_alt2\n",
       "0    42     1        4"
      ]
     },
     "execution_count": 6,
     "metadata": {},
     "output_type": "execute_result"
    }
   ],
   "source": [
    "result_bmi = 40\n",
    "result_map = 3\n",
    "result_aaa = 4\n",
    "blood_sugar = 250.0\n",
    "total_cholesterol = 119.0\n",
    "triglycerides = 265.0\n",
    "hemoglobin = 15.7\n",
    "proteinuria = 1.0\n",
    "serum_creatinine = 0\n",
    "gamma_gtp = 35.0\n",
    "city = '강원'\n",
    "sex = '남자'\n",
    "\n",
    "col = ['bmi', 'map', '식전혈당(공복혈당)', '총 콜레스테롤', '트리글리세라이드',\n",
    "       '혈색소', '요단백', '혈청크레아티닌', '감마 지티피']\n",
    "\n",
    "df1 = pd.DataFrame([result_bmi, result_map, blood_sugar, total_cholesterol,\n",
    "                    triglycerides, hemoglobin, proteinuria, serum_creatinine, gamma_gtp]).transpose()\n",
    "df1.columns = col\n",
    "\n",
    "df1 = pd.DataFrame(scaler.transform(df1), columns=col)\n",
    "\n",
    "col2 = ['시도코드', '성별코드', 'ast_alt2']\n",
    "\n",
    "df2 = pd.DataFrame([city, sex, result_aaa]).transpose()\n",
    "\n",
    "df2.columns = col2\n",
    "df2 = df2.replace({'성별코드':{'남자':1, '여자':2},\n",
    "            '시도코드':{'서울':11, '부산':26, '대구':27, '인천':28, '광주':29, '대전':30, '울산':31,\n",
    "                    '경기':41, '강원':42, '충북':43, '충남':44, '전북':45, '전남':46, '경북':47, '경남':48,\n",
    "                    '제주':49, '전국':99}})\n",
    "df2"
   ]
  },
  {
   "cell_type": "code",
   "execution_count": 15,
   "id": "7923c679",
   "metadata": {},
   "outputs": [
    {
     "name": "stdout",
     "output_type": "stream",
     "text": [
      "당뇨병이(가) 발병할 확률은 87.329%입니다 \n",
      "고혈압이(가) 발병할 확률은 99.612%입니다 \n",
      "감기이(가) 발병할 확률은 98.263%입니다 \n",
      "기관지염이(가) 발병할 확률은 79.900%입니다 \n",
      "경추간판장애이(가) 발병할 확률은 100.000%입니다 \n"
     ]
    }
   ],
   "source": [
    "result_bmi = 40\n",
    "result_map = 3\n",
    "result_aaa = 4\n",
    "blood_sugar = 250.0\n",
    "total_cholesterol = 119.0\n",
    "triglycerides = 265.0\n",
    "hemoglobin = 15.7\n",
    "proteinuria = 1.0\n",
    "serum_creatinine = 0\n",
    "gamma_gtp = 35.0\n",
    "city = '강원'\n",
    "sex = '남자'\n",
    "\n",
    "col = ['bmi', 'map', '식전혈당(공복혈당)', '총 콜레스테롤', '트리글리세라이드',\n",
    "       '혈색소', '요단백', '혈청크레아티닌', '감마 지티피']\n",
    "\n",
    "df1 = pd.DataFrame([result_bmi, result_map, blood_sugar, total_cholesterol,\n",
    "                    triglycerides, hemoglobin, proteinuria, serum_creatinine, gamma_gtp]).transpose()\n",
    "df1.columns = col\n",
    "\n",
    "df1 = pd.DataFrame(scaler.transform(df1), columns=col)\n",
    "\n",
    "col2 = ['시도코드', '성별코드', 'ast_alt2']\n",
    "\n",
    "df2 = pd.DataFrame([city, sex, result_aaa]).transpose()\n",
    "\n",
    "df2.columns = col2\n",
    "df2 = df2.replace({'성별코드':{'남자':1, '여자':2},\n",
    "            '시도코드':{'서울':11, '부산':26, '대구':27, '인천':28, '광주':29, '대전':30, '울산':31,\n",
    "                    '경기':41, '강원':42, '충북':43, '충남':44, '전북':45, '전남':46, '경북':47, '경남':48,\n",
    "                    '제주':49, '전국':99}})\n",
    "\n",
    "df = pd.concat([df1, df2], axis=1)\n",
    "df = df.astype({'ast_alt2':'float'})\n",
    "\n",
    "for j, kcd in zip(range(1,6), ['당뇨병', '고혈압', '감기', '기관지염', '경추간판장애']):\n",
    "    a = globals()['model{}'.format(j)].predict_proba(df)[0][1]\n",
    "    print('{}이(가) 발병할 확률은 {:.3f}%입니다 '.format(kcd, a*100))"
   ]
  },
  {
   "cell_type": "code",
   "execution_count": null,
   "id": "c94a89fe",
   "metadata": {},
   "outputs": [],
   "source": [
    "height = 165\n",
    "weight = 80\n",
    "sex = '남자'\n",
    "area = '충남'\n",
    "systolic = \n",
    "diastolic = \n",
    "ast = 18\n",
    "alt = 20\n",
    "blood_sugar = \n",
    "total_cholesterol = \n",
    "triglycerides = \n",
    "hemoglobin = \n",
    "proteinuria = \n",
    "serum_creatinine = \n",
    "gamma_gtp = 35\n",
    "\n",
    "Pred_Model.runModel()"
   ]
  },
  {
   "cell_type": "code",
   "execution_count": 17,
   "id": "62050347",
   "metadata": {},
   "outputs": [],
   "source": [
    "### 라이브러리\n",
    "import glob\n",
    "import pickle\n",
    "import pandas as pd\n",
    "\n",
    "class Pred_Model :\n",
    "    def __init__(self) :\n",
    "        self.temp = 0\n",
    "    def runModel(self, height, weight, sex, area, systolic, diastolic, ast, alt,\n",
    "                             blood_sugar, total_cholesterol, triglycerides,\n",
    "                             hemoglobin, proteinuria, serum_creatinine, gamma_gtp) :\n",
    "        \n",
    "\n",
    "        files = glob.glob('mainapp/pyfiles/*.pickle')\n",
    "\n",
    "        i = 1\n",
    "        for file in files:\n",
    "            with open(file,'rb') as f:\n",
    "                globals()['model{}'.format(i)] = pickle.load(f)\n",
    "            i += 1\n",
    "            \n",
    "        with open('mainapp/pyfiles/model_scaler.pickle', 'rb') as f: \n",
    "            scaler = pickle.load(f)\n",
    "            \n",
    "\n",
    "        result_bmi = weight / ((height/100)**2)\n",
    "        result_map = (2*diastolic+systolic)/3\n",
    "        result_aaa = float(ast/alt)\n",
    "        \n",
    "        col = ['bmi', 'map', '식전혈당(공복혈당)', '총 콜레스테롤', '트리글리세라이드',\n",
    "            '혈색소', '요단백', '혈청크레아티닌', '감마 지티피']\n",
    "\n",
    "        df1 = pd.DataFrame([result_bmi, result_map, blood_sugar, total_cholesterol,\n",
    "                            triglycerides, hemoglobin, proteinuria, serum_creatinine, gamma_gtp]).transpose()\n",
    "        df1.columns = col\n",
    "\n",
    "        df1 = pd.DataFrame(scaler.transform(df1), columns=col)\n",
    "\n",
    "        col2 = ['시도코드', '성별코드', 'ast_alt2']\n",
    "\n",
    "        df2 = pd.DataFrame([area, sex, result_aaa]).transpose()\n",
    "\n",
    "        df2.columns = col2\n",
    "\n",
    "        df2 = df2.replace({'성별코드':{'남자':1, '여자':2},\n",
    "            '시도코드':{'서울':11, '부산':26, '대구':27, '인천':28, '광주':29, '대전':30, '울산':31,\n",
    "                    '경기':41, '강원':42, '충북':43, '충남':44, '전북':45, '전남':46, '경북':47, '경남':48,\n",
    "                    '제주':49, '전국':99}})\n",
    "        \n",
    "        df = pd.concat([df1, df2], axis=1)\n",
    "        \n",
    "        \n",
    "        list_result = []\n",
    "        for j, kcd in zip(range(1,6), ['당뇨병', '고혈압', '감기', '기관지염', '경추간판장애']):\n",
    "            a = globals()['model{}'.format(j)].predict_proba(df)[0][1]\n",
    "            '{}이(가) 발병할 확률은 {:.3f}%입니다 '.format(kcd, a*100)\n",
    "            list_result.append('{}이(가) 발병할 확률은 {:.3f}%입니다 '.format(kcd, a*100))\n",
    "            \n",
    "        return list_result"
   ]
  },
  {
   "cell_type": "code",
   "execution_count": null,
   "id": "e212b8ed",
   "metadata": {},
   "outputs": [],
   "source": []
  }
 ],
 "metadata": {
  "kernelspec": {
   "display_name": "nltk_kernel",
   "language": "python",
   "name": "nltk"
  },
  "language_info": {
   "codemirror_mode": {
    "name": "ipython",
    "version": 3
   },
   "file_extension": ".py",
   "mimetype": "text/x-python",
   "name": "python",
   "nbconvert_exporter": "python",
   "pygments_lexer": "ipython3",
   "version": "3.9.17"
  },
  "toc": {
   "base_numbering": 1,
   "nav_menu": {},
   "number_sections": true,
   "sideBar": true,
   "skip_h1_title": false,
   "title_cell": "Table of Contents",
   "title_sidebar": "Contents",
   "toc_cell": false,
   "toc_position": {},
   "toc_section_display": true,
   "toc_window_display": false
  }
 },
 "nbformat": 4,
 "nbformat_minor": 5
}
